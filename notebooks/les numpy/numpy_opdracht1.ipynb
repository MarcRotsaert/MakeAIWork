{
 "cells": [
  {
   "cell_type": "markdown",
   "id": "b45dd50e-d75c-41d2-a549-110cc111e32b",
   "metadata": {},
   "source": [
    "<a href=\"https://it-omscholing.nl/locaties/hogeschool-rotterdam/\">\n",
    "<div>\n",
    "<a><img src='../pics/banner.PNG'/></a>\n",
    "</div>\n",
    "<div>\n",
    "<a href=''><img src='../pics/miw.PNG'/></a>\n",
    "<em>Author: Jeroen Boogaard</em>\n",
    "</div>\n",
    "</a>"
   ]
  },
  {
   "cell_type": "markdown",
   "id": "63f0720b-4a62-479d-873b-c5f6cad9a89d",
   "metadata": {},
   "source": [
    "<h1>Numpy</h1>"
   ]
  },
  {
   "cell_type": "markdown",
   "id": "3619d610-30b3-41a2-b5f0-ae37b9d5b105",
   "metadata": {},
   "source": [
    "**Imports**"
   ]
  },
  {
   "cell_type": "code",
   "execution_count": 2,
   "id": "42257a05-c794-4121-a9cf-fe53fa3a1dc1",
   "metadata": {},
   "outputs": [],
   "source": [
    "import numpy as np\n",
    "import pandas as pd\n",
    "from PIL import Image\n",
    "from scipy import ndimage"
   ]
  },
  {
   "cell_type": "markdown",
   "id": "8e48110a-ff83-4fba-aab9-7cb3678fe668",
   "metadata": {},
   "source": [
    "<h2>Opdracht 1</h2>"
   ]
  },
  {
   "cell_type": "markdown",
   "id": "47ac5b87-14b1-437e-91cb-93dadadef8f9",
   "metadata": {},
   "source": [
    "<h3>Gegeven</h3>"
   ]
  },
  {
   "cell_type": "markdown",
   "id": "8605ba6e-3f4e-4fe1-b76f-c784f2f44735",
   "metadata": {},
   "source": [
    "Planeet | Grootte to.v. de omvang van de Aarde\n",
    "---|---\n",
    "Jupiter | 1120%\n",
    "Saturnus | 945%\n",
    "Uranus | 400%\n",
    "Neptunus | 388%\n",
    "Aarde| 100%\n",
    "Venus | 95%\n",
    "Mars | 53%"
   ]
  },
  {
   "cell_type": "code",
   "execution_count": 3,
   "id": "2b471d98-c5b0-4db0-a1c6-155094548c23",
   "metadata": {},
   "outputs": [],
   "source": [
    "filename = \"csv/planets.csv\""
   ]
  },
  {
   "cell_type": "code",
   "execution_count": 4,
   "id": "e5fa129a-d9a8-4899-ba69-87537e1819f5",
   "metadata": {},
   "outputs": [
    {
     "name": "stdout",
     "output_type": "stream",
     "text": [
      " Volume in drive C is OS\n",
      " Volume Serial Number is A228-4B14\n",
      "\n",
      " Directory of c:\\Users\\marcr\\MakeAIWork\\notebooks\\les numpy\\pics\n",
      "\n",
      "16-09-2022  15:13    <DIR>          .\n",
      "16-09-2022  13:17    <DIR>          ..\n",
      "16-09-2022  13:17    <DIR>          .ipynb_checkpoints\n",
      "16-09-2022  13:17            29.680 earth.jpg\n",
      "16-09-2022  15:13            12.539 earth_scaled.jpg\n",
      "16-09-2022  13:17            22.232 jupiter.jpg\n",
      "16-09-2022  15:13           280.843 jupiter_scaled.jpg\n",
      "16-09-2022  13:17            27.847 mars.jpg\n",
      "16-09-2022  13:17           414.893 mars.nasa.jpg\n",
      "16-09-2022  15:13             3.435 mars_scaled.jpg\n",
      "16-09-2022  13:17            40.854 mercury.jpg\n",
      "16-09-2022  15:13             2.898 mercury_scaled.jpg\n",
      "16-09-2022  13:17            14.150 neptune.jpg\n",
      "16-09-2022  15:13            35.223 neptune_scaled.jpg\n",
      "16-09-2022  13:17            40.218 saturn.jpg\n",
      "16-09-2022  15:13           206.994 saturn_scaled.jpg\n",
      "16-09-2022  13:17             9.969 uranus.jpg\n",
      "16-09-2022  15:13            33.585 uranus_scaled.jpg\n",
      "16-09-2022  13:17            66.259 venus.png\n",
      "16-09-2022  15:13            60.645 venus_scaled.png\n",
      "              17 File(s)      1.302.264 bytes\n",
      "               3 Dir(s)  426.572.984.320 bytes free\n"
     ]
    }
   ],
   "source": [
    "ls pics"
   ]
  },
  {
   "cell_type": "markdown",
   "id": "ad98fa30-0e0a-4ec4-9930-b63db74c11f2",
   "metadata": {},
   "source": [
    "<h3>Gevraagd</h3>\n",
    "<p>\n",
    "Schaal voor elke (erkende) planeet uit ons zonnestelsel de bijbehorende image t.o.v. van de aarde. Het geschaalde plaatje moet groter zijn dan het plaatje van de aarde als de bijbehorende planeet groter is dan de aarde. Is de planeet kleiner dan de aarde dan moet het nieuwe plaatje kleiner zijn. Gebruik voor de schaalfactor het percentage. \n",
    "Tip: Indien nodig kun je de images normaliseren door eerst het plaatje van de aarde te schalen\n",
    "</p>"
   ]
  },
  {
   "cell_type": "markdown",
   "id": "c0c854fb-54db-4baa-b149-2e7d0c1b6391",
   "metadata": {},
   "source": [
    "<h3>Oplossing</h3>\n",
    "<ol>\n",
    "    <li>\n",
    "        <strong>Open het bestand csv/planets.csv en voeg daar de kolom <i>image</i></strong>\n",
    "    </li>\n",
    "    <li>\n",
    "        <strong>Importeer het csv-bestand en sla de data op in een dictionary</strong>\n",
    "    </li>\n",
    "    <li>\n",
    "        <strong>Open een image uit van een item uit de dictionary</strong>\n",
    "    </li>\n",
    "    <li>\n",
    "        <strong>Schaal de image m.b.v. een <i>numpy array</i></strong>\n",
    "    </li>\n",
    "    <li>\n",
    "        <strong>Sla de geschaalde image op</strong>\n",
    "    </li>\n",
    "    <li>\n",
    "        <strong>Schrijf een functie voor het schalen van een image</strong>\n",
    "    </li>    \n",
    "    <li>\n",
    "        <strong>Maak een loop waarbij voor elke planeet een geschaalde image wordt gemaakt en opgelagen</strong>\n",
    "    </li>    \n",
    "</ol>    "
   ]
  },
  {
   "cell_type": "markdown",
   "id": "b2a7b7fb-56b3-43f7-a6b5-34adc057c3d1",
   "metadata": {},
   "source": [
    "**Stap 2: Importeer het csv-bestand en sla de data op in een dictionary**"
   ]
  },
  {
   "cell_type": "code",
   "execution_count": 5,
   "id": "cbcb0e9b-46f8-490d-9a85-eb29037a93cb",
   "metadata": {},
   "outputs": [
    {
     "name": "stdout",
     "output_type": "stream",
     "text": [
      "      Name   Diameter          Mass   Inclination   Eccentricity  \\\n",
      "0  Mercury     4879.4   3.302×10^23      7.004000       0.205636   \n",
      "1    Venus    12103.6   4.869×10^24      3.394710       0.006777   \n",
      "2    Earth    12756.3   5.974×10^24      0.000050       0.016711   \n",
      "3     Mars     6794.4   6.419×10^23      1.850610       0.093394   \n",
      "4  Jupiter   142984.0   1.899×10^27      1.305300       0.048386   \n",
      "5   Saturn   120536.0   5.688×10^26      2.484460       0.053862   \n",
      "6   Uranus    51118.0   8.683×10^25      0.774000       0.047257   \n",
      "7  Neptune    49572.0   1.024×10^26      1.769170       0.008590   \n",
      "8    Pluto     2370.0     1.3×10^22     17.089001       0.250249   \n",
      "\n",
      "    Semi_majorAxis   SurfaceGravity   OrbitalPeriod   SiderealRotation  \\\n",
      "0         0.387099             3.70        0.241000          58.650000   \n",
      "1         0.723336             8.87        0.615000         243.018700   \n",
      "2         1.000003             9.78        1.000000           0.997271   \n",
      "3         1.523710             3.71        1.881000           1.025950   \n",
      "4         5.202887            24.79       11.860000           0.413500   \n",
      "5         9.536676             8.96       29.460000           0.426400   \n",
      "6        19.189165             7.77       84.010000           0.718100   \n",
      "7        30.069923            11.00      164.790000           0.671200   \n",
      "8        39.445070             0.62      247.740662           6.387230   \n",
      "\n",
      "    Satellites  \n",
      "0            0  \n",
      "1            0  \n",
      "2            1  \n",
      "3            2  \n",
      "4           63  \n",
      "5           64  \n",
      "6           27  \n",
      "7           14  \n",
      "8            5  \n"
     ]
    },
    {
     "data": {
      "text/plain": [
       "pandas.core.frame.DataFrame"
      ]
     },
     "execution_count": 5,
     "metadata": {},
     "output_type": "execute_result"
    }
   ],
   "source": [
    "planetDataFrame = pd.read_csv(filename, header = 0, sep = ',')\n",
    "print(planetDataFrame)\n",
    "type(planetDataFrame)\n",
    "\n",
    "# print(planetDataFrame.columns)"
   ]
  },
  {
   "cell_type": "markdown",
   "id": "9d9d8c73-c8fa-41b0-848c-04741aa06bbf",
   "metadata": {},
   "source": [
    "**Stap 3: Open een image uit van een item uit de dictionary**"
   ]
  },
  {
   "cell_type": "code",
   "execution_count": 6,
   "id": "83d43bb9-694e-4390-a8a3-30f6535f6591",
   "metadata": {},
   "outputs": [
    {
     "data": {
      "text/plain": [
       "PIL.JpegImagePlugin.JpegImageFile"
      ]
     },
     "execution_count": 6,
     "metadata": {},
     "output_type": "execute_result"
    }
   ],
   "source": [
    "img = Image.open('pics/earth.jpg')\n",
    "type(img)\n",
    "# img.show()"
   ]
  },
  {
   "cell_type": "markdown",
   "id": "645b438b-324d-427c-9efd-d621e37445f7",
   "metadata": {
    "tags": []
   },
   "source": [
    "**Stap 4: Schaal de image m.b.v. een numpy array**"
   ]
  },
  {
   "cell_type": "code",
   "execution_count": 7,
   "id": "8894e6bd-6237-4cf6-8d95-222d6a3be56e",
   "metadata": {},
   "outputs": [],
   "source": [
    "array = np.array(img)\n",
    "type(array)\n",
    "scaleFactor = 1\n",
    "scaleArray = ndimage.zoom(array, (scaleFactor, scaleFactor, 1))\n",
    "imgScaled = Image.fromarray(scaleArray)\n",
    "imgScaled.show()"
   ]
  },
  {
   "cell_type": "markdown",
   "id": "8611929d-d109-4f62-881f-b8a64db1e648",
   "metadata": {},
   "source": [
    "**Stap 5: Sla de geschaalde image op**"
   ]
  },
  {
   "cell_type": "code",
   "execution_count": 8,
   "id": "2e34fa25-3cc3-4e5f-b29a-7793e505db61",
   "metadata": {},
   "outputs": [],
   "source": [
    "imgScaled.save(img.filename.replace(\".jpg\",\"_scaled.jpg\"))"
   ]
  },
  {
   "cell_type": "code",
   "execution_count": 9,
   "id": "71a71b59",
   "metadata": {},
   "outputs": [
    {
     "name": "stdout",
     "output_type": "stream",
     "text": [
      "('R', 'G', 'B')\n"
     ]
    }
   ],
   "source": [
    "#dir(imgScaled)\n",
    "band = img.getbands()\n",
    "print(band)"
   ]
  },
  {
   "cell_type": "markdown",
   "id": "f142ebe1-f561-447b-8e2e-e8855b20cd50",
   "metadata": {},
   "source": [
    "**Stap 6: Schrijf een functie voor het schalen van een image**"
   ]
  },
  {
   "cell_type": "code",
   "execution_count": 10,
   "id": "30a3f805",
   "metadata": {},
   "outputs": [],
   "source": [
    "import os\n",
    "def scaleimage(planetfile,scalefactor):\n",
    "    img = Image.open(os.path.join('pics',planetfile))\n",
    "    #type(img)   \n",
    "    array = np.array(img)\n",
    "    type(array)\n",
    "    #scaleFactor = 1\n",
    "    scaleArray = ndimage.zoom(array, (scalefactor, scalefactor, 1))\n",
    "    imgScaled = Image.fromarray(scaleArray)\n",
    "    return imgScaled\n",
    "\n",
    "    #imgScaled.show()    \n",
    "scaledjupiter = scaleimage('jupiter.jpg',10)\n",
    "\n"
   ]
  },
  {
   "cell_type": "markdown",
   "id": "5a550077-c83c-4af2-96fa-7a32158d5198",
   "metadata": {},
   "source": [
    "**Stap 7: Maak een loop waarbij voor elke planeet een geschaalde image wordt gemaakt en opgelagen**"
   ]
  },
  {
   "cell_type": "code",
   "execution_count": 11,
   "id": "c8d765e6",
   "metadata": {},
   "outputs": [],
   "source": [
    "def findfilename(planetname):\n",
    "    #print(os.getcwd())\n",
    "    fnlist_ext =os.listdir('pics')\n",
    "    #print(fnlist_ext)\n",
    "    fnlist = [fn.split('.')[0] for fn in os.listdir('pics')]\n",
    "    #print(fnlist)\n",
    "    ind= fnlist.index(planetname.lower())\n",
    "    return fnlist_ext[ind]\n",
    "fn = findfilename('venus')\n",
    "#print(fn)"
   ]
  },
  {
   "cell_type": "code",
   "execution_count": 27,
   "id": "f2153fc5",
   "metadata": {},
   "outputs": [
    {
     "name": "stdout",
     "output_type": "stream",
     "text": [
      "(0, Name                      Mercury\n",
      " Diameter                  4879.4\n",
      " Mass                 3.302×10^23\n",
      " Inclination                7.004\n",
      " Eccentricity            0.205636\n",
      " Semi_majorAxis          0.387099\n",
      " SurfaceGravity               3.7\n",
      " OrbitalPeriod              0.241\n",
      " SiderealRotation           58.65\n",
      " Satellites                     0\n",
      "Name: 0, dtype: object)\n",
      "(1, Name                        Venus\n",
      " Diameter                 12103.6\n",
      " Mass                 4.869×10^24\n",
      " Inclination              3.39471\n",
      " Eccentricity            0.006777\n",
      " Semi_majorAxis          0.723336\n",
      " SurfaceGravity              8.87\n",
      " OrbitalPeriod              0.615\n",
      " SiderealRotation        243.0187\n",
      " Satellites                     0\n",
      "Name: 1, dtype: object)\n",
      "(2, Name                        Earth\n",
      " Diameter                 12756.3\n",
      " Mass                 5.974×10^24\n",
      " Inclination              0.00005\n",
      " Eccentricity            0.016711\n",
      " Semi_majorAxis          1.000003\n",
      " SurfaceGravity              9.78\n",
      " OrbitalPeriod                1.0\n",
      " SiderealRotation        0.997271\n",
      " Satellites                     1\n",
      "Name: 2, dtype: object)\n",
      "(3, Name                         Mars\n",
      " Diameter                  6794.4\n",
      " Mass                 6.419×10^23\n",
      " Inclination              1.85061\n",
      " Eccentricity            0.093394\n",
      " Semi_majorAxis           1.52371\n",
      " SurfaceGravity              3.71\n",
      " OrbitalPeriod              1.881\n",
      " SiderealRotation         1.02595\n",
      " Satellites                     2\n",
      "Name: 3, dtype: object)\n",
      "(4, Name                      Jupiter\n",
      " Diameter                142984.0\n",
      " Mass                 1.899×10^27\n",
      " Inclination               1.3053\n",
      " Eccentricity            0.048386\n",
      " Semi_majorAxis          5.202887\n",
      " SurfaceGravity             24.79\n",
      " OrbitalPeriod              11.86\n",
      " SiderealRotation          0.4135\n",
      " Satellites                    63\n",
      "Name: 4, dtype: object)\n",
      "(5, Name                       Saturn\n",
      " Diameter                120536.0\n",
      " Mass                 5.688×10^26\n",
      " Inclination              2.48446\n",
      " Eccentricity            0.053862\n",
      " Semi_majorAxis          9.536676\n",
      " SurfaceGravity              8.96\n",
      " OrbitalPeriod              29.46\n",
      " SiderealRotation          0.4264\n",
      " Satellites                    64\n",
      "Name: 5, dtype: object)\n",
      "(6, Name                       Uranus\n",
      " Diameter                 51118.0\n",
      " Mass                 8.683×10^25\n",
      " Inclination                0.774\n",
      " Eccentricity            0.047257\n",
      " Semi_majorAxis         19.189165\n",
      " SurfaceGravity              7.77\n",
      " OrbitalPeriod              84.01\n",
      " SiderealRotation          0.7181\n",
      " Satellites                    27\n",
      "Name: 6, dtype: object)\n",
      "(7, Name                      Neptune\n",
      " Diameter                 49572.0\n",
      " Mass                 1.024×10^26\n",
      " Inclination              1.76917\n",
      " Eccentricity             0.00859\n",
      " Semi_majorAxis         30.069923\n",
      " SurfaceGravity              11.0\n",
      " OrbitalPeriod             164.79\n",
      " SiderealRotation          0.6712\n",
      " Satellites                    14\n",
      "Name: 7, dtype: object)\n",
      "(8, Name                      Pluto\n",
      " Diameter                2370.0\n",
      " Mass                 1.3×10^22\n",
      " Inclination          17.089001\n",
      " Eccentricity          0.250249\n",
      " Semi_majorAxis        39.44507\n",
      " SurfaceGravity            0.62\n",
      " OrbitalPeriod       247.740662\n",
      " SiderealRotation       6.38723\n",
      " Satellites                   5\n",
      "Name: 8, dtype: object)\n"
     ]
    }
   ],
   "source": [
    "varname_diameter= ' Diameter'\n",
    "varname_name = 'Name'\n",
    "temp = planetDataFrame[planetDataFrame[varname_name]=='Earth']\n",
    "#print(temp.keys())\n",
    "#for t in temp:\n",
    "    #print(temp[t])\n",
    "d_aarde=temp[varname_diameter]\n",
    "#xx\n",
    "planetlist =[]\n",
    "fn_dict = {};i=0\n",
    "for planet in planetDataFrame.iterrows():\n",
    "    print(planet)\n",
    "    temp = planet[1].to_dict()\n",
    "    #print(planet[1][varname_diameter])\n",
    "    pl_name = planet[1][varname_name]\n",
    "    pl_diameter = planet[1][varname_diameter]\n",
    "    scalefactor = pl_diameter/d_aarde\n",
    "    #print(str(pl_name.lower()))\n",
    "    try:\n",
    "        fn = findfilename(str(pl_name.lower()))\n",
    "        scaledimage = scaleimage(fn,scalefactor)\n",
    "        fn=fn.replace(\".\",\"_scaled.\")\n",
    "        #print(fn)\n",
    "        scaledimage.save(os.path.join('pics',fn)) \n",
    "        temp.update({'FN_scaled':fn})\n",
    "        #fn_dict.update({i:fn})\n",
    "    except ValueError:\n",
    "        temp.update({'FN_scaled':'no picture available'})\n",
    "        #fn_dict.update({i:'no picture available'})\n",
    "        pass\n",
    "    planetlist.append(temp)\n",
    "#planet_dict = planetDataFrame.to_dict()\n",
    "#planet_dict.update({'Fn_scaled':fn_dict})\n",
    "\n"
   ]
  },
  {
   "cell_type": "code",
   "execution_count": 34,
   "id": "9cf6b1a0",
   "metadata": {},
   "outputs": [
    {
     "name": "stdout",
     "output_type": "stream",
     "text": [
      "[{'Name': 'Mercury', ' Diameter': 4879.4, ' Mass': ' 3.302×10^23', ' Inclination': 7.004, ' Eccentricity': 0.20563593, ' Semi_majorAxis': 0.38709927, ' SurfaceGravity': 3.7, ' OrbitalPeriod': 0.241, ' SiderealRotation': 58.65, ' Satellites': 0, 'FN_scaled': 'mercury_scaled.jpg'}, {'Name': 'Venus', ' Diameter': 12103.6, ' Mass': ' 4.869×10^24', ' Inclination': 3.39471, ' Eccentricity': 0.00677672, ' Semi_majorAxis': 0.72333566, ' SurfaceGravity': 8.87, ' OrbitalPeriod': 0.615, ' SiderealRotation': 243.0187, ' Satellites': 0, 'FN_scaled': 'venus_scaled.png'}, {'Name': 'Earth', ' Diameter': 12756.3, ' Mass': ' 5.974×10^24', ' Inclination': 5e-05, ' Eccentricity': 0.01671123, ' Semi_majorAxis': 1.00000261, ' SurfaceGravity': 9.78, ' OrbitalPeriod': 1.0, ' SiderealRotation': 0.997271, ' Satellites': 1, 'FN_scaled': 'earth_scaled.jpg'}, {'Name': 'Mars', ' Diameter': 6794.4, ' Mass': ' 6.419×10^23', ' Inclination': 1.85061, ' Eccentricity': 0.0933941, ' Semi_majorAxis': 1.52371034, ' SurfaceGravity': 3.71, ' OrbitalPeriod': 1.881, ' SiderealRotation': 1.02595, ' Satellites': 2, 'FN_scaled': 'mars_scaled.jpg'}, {'Name': 'Jupiter', ' Diameter': 142984.0, ' Mass': ' 1.899×10^27', ' Inclination': 1.3053, ' Eccentricity': 0.04838624, ' Semi_majorAxis': 5.202887, ' SurfaceGravity': 24.79, ' OrbitalPeriod': 11.86, ' SiderealRotation': 0.4135, ' Satellites': 63, 'FN_scaled': 'jupiter_scaled.jpg'}, {'Name': 'Saturn', ' Diameter': 120536.0, ' Mass': ' 5.688×10^26', ' Inclination': 2.48446, ' Eccentricity': 0.05386179, ' Semi_majorAxis': 9.53667594, ' SurfaceGravity': 8.96, ' OrbitalPeriod': 29.46, ' SiderealRotation': 0.4264, ' Satellites': 64, 'FN_scaled': 'saturn_scaled.jpg'}, {'Name': 'Uranus', ' Diameter': 51118.0, ' Mass': ' 8.683×10^25', ' Inclination': 0.774, ' Eccentricity': 0.04725744, ' Semi_majorAxis': 19.18916464, ' SurfaceGravity': 7.77, ' OrbitalPeriod': 84.01, ' SiderealRotation': 0.7181, ' Satellites': 27, 'FN_scaled': 'uranus_scaled.jpg'}, {'Name': 'Neptune', ' Diameter': 49572.0, ' Mass': ' 1.024×10^26', ' Inclination': 1.76917, ' Eccentricity': 0.00859048, ' Semi_majorAxis': 30.06992276, ' SurfaceGravity': 11.0, ' OrbitalPeriod': 164.79, ' SiderealRotation': 0.6712, ' Satellites': 14, 'FN_scaled': 'neptune_scaled.jpg'}, {'Name': 'Pluto', ' Diameter': 2370.0, ' Mass': ' 1.3×10^22', ' Inclination': 17.08900092, ' Eccentricity': 0.250248713, ' Semi_majorAxis': 39.44506973, ' SurfaceGravity': 0.62, ' OrbitalPeriod': 247.7406624, ' SiderealRotation': 6.38723, ' Satellites': 5, 'FN_scaled': 'no picture available'}]\n"
     ]
    }
   ],
   "source": [
    "print(planetlist)\n",
    "import csv\n",
    "with open('csv/planets_update.csv','w') as g: \n",
    "    #writer = csv.DictWriter(g, planet_dict)\n",
    "    writer = csv.DictWriter(g, fieldnames=planetlist[0].keys())\n",
    "    writer.writeheader()\n",
    "    writer.writerows(planetlist)\n"
   ]
  },
  {
   "cell_type": "markdown",
   "id": "a668a8e8-4d7e-4c6d-adbc-61935887fabe",
   "metadata": {},
   "source": [
    "<h4>Bonus: Voeg Mercurius aan de tabel toe en schaal ook daarvan het plaatje</h4>"
   ]
  },
  {
   "cell_type": "markdown",
   "id": "11d181d1-c906-4ad1-9d8f-69836a4e8cc7",
   "metadata": {},
   "source": [
    "</ol>"
   ]
  },
  {
   "cell_type": "markdown",
   "id": "03ac855f-3986-4b4a-823c-10c6d8b33024",
   "metadata": {},
   "source": [
    "</ol>"
   ]
  },
  {
   "cell_type": "markdown",
   "id": "0be19a7e-a00f-4773-a19a-50b07618f856",
   "metadata": {},
   "source": [
    "\n"
   ]
  }
 ],
 "metadata": {
  "kernelspec": {
   "display_name": "Python 3.10.7 ('env': venv)",
   "language": "python",
   "name": "python3"
  },
  "language_info": {
   "codemirror_mode": {
    "name": "ipython",
    "version": 3
   },
   "file_extension": ".py",
   "mimetype": "text/x-python",
   "name": "python",
   "nbconvert_exporter": "python",
   "pygments_lexer": "ipython3",
   "version": "3.10.7"
  },
  "vscode": {
   "interpreter": {
    "hash": "5d2180faa00c5a12df8b70059ee001542d5036b4e69be44d67726a9930c6557a"
   }
  }
 },
 "nbformat": 4,
 "nbformat_minor": 5
}
