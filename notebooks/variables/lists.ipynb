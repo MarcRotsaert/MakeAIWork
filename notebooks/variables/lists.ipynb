{
 "cells": [
  {
   "cell_type": "markdown",
   "id": "5a5999c2-eb9d-4bf9-8373-b9964e2c152d",
   "metadata": {},
   "source": [
    "<a href=\"https://it-omscholing.nl/locaties/hogeschool-rotterdam/\">\n",
    "<div>\n",
    "<a><img src='../pics/banner.PNG'/></a>\n",
    "</div>\n",
    "<div>\n",
    "<a href=''><img src='../pics/miw.PNG'/></a>\n",
    "<em>Author: Jeroen Boogaard</em>\n",
    "</div>\n",
    "</a>"
   ]
  },
  {
   "cell_type": "markdown",
   "id": "88e57004-2f85-4311-84c0-c4e148f421a7",
   "metadata": {},
   "source": [
    "<h1>Samengestelde variabelen - lists</h1>"
   ]
  },
  {
   "cell_type": "markdown",
   "id": "6837aea3-45db-4940-8b9d-a406fdc01db1",
   "metadata": {},
   "source": [
    "<h3>List variabelen aanmaken en afdrukken</h3>"
   ]
  },
  {
   "cell_type": "markdown",
   "id": "99e472c0-ba9b-4e25-ae03-75fd62f31e8f",
   "metadata": {},
   "source": [
    "**Gebruik teksthaken [] voor het aanmaken van een list variabele**"
   ]
  },
  {
   "cell_type": "code",
<<<<<<< HEAD
   "execution_count": 15,
=======
   "execution_count": 6,
>>>>>>> 75b6169 (verse start ochtend 220902)
   "id": "eac2c3b2-52a0-4847-bffc-ad8d2eff0507",
   "metadata": {},
   "outputs": [],
   "source": [
    "neptuneInnerMoons = [\"Naiad\", \"Thalassa\", \"Despina\", \"Galatea\", \"Proteus\", \"Hippocamp\", \"Larissa\"]\n",
    "neptuneOutermoons = [\"Triton\", \"Halimede\", \"Sao\", \"Psamathe\", \"Laomedeia\", \"Neso\", \"Nereid\"]"
   ]
  },
  {
   "cell_type": "markdown",
   "id": "d1354bbe-99d3-4653-a787-dde02513ac0a",
   "metadata": {},
   "source": [
    "<h3>Exercise 9</h3>\n",
    "<p>Schrijf een statement om te bewijzen dat Neptunus evenveel binnen- als buitenmanen heeft</p>"
   ]
  },
  {
   "cell_type": "code",
<<<<<<< HEAD
   "execution_count": 16,
=======
   "execution_count": 7,
>>>>>>> 75b6169 (verse start ochtend 220902)
   "id": "b4aec7a1-ca64-4cdd-b498-5d88ea756b2d",
   "metadata": {},
   "outputs": [
    {
     "data": {
      "text/plain": [
       "True"
      ]
     },
     "execution_count": 7,
     "metadata": {},
     "output_type": "execute_result"
    }
   ],
   "source": [
    "# Oplossing\n",
    "\n",
    "len(neptuneInnerMoons) == len(neptuneOutermoons)\n",
    "# len functie dat de lengte van een object retourneert.  "
   ]
  },
  {
   "cell_type": "markdown",
   "id": "7c74a678-a81b-4b7a-8bd6-57c4e1d41a04",
   "metadata": {},
   "source": [
    "**Gebruik index 0 voor het verkrijgen van het eerste element**"
   ]
  },
  {
   "cell_type": "code",
<<<<<<< HEAD
   "execution_count": 8,
=======
<<<<<<< HEAD
   "execution_count": null,
=======
   "execution_count": 8,
>>>>>>> 75b6169 (verse start ochtend 220902)
>>>>>>> 6367a6b (rebase 4 220902 ochtend)
   "id": "aeadd5cd-2193-4581-8d52-9d085211630a",
   "metadata": {},
   "outputs": [
    {
     "name": "stdout",
     "output_type": "stream",
     "text": [
      "Triton is the largest moon of Neptune.\n"
     ]
    }
   ],
   "source": [
    "print(\"%s is the largest moon of Neptune.\" %(neptuneOutermoons[0]))"
   ]
  },
  {
   "cell_type": "markdown",
   "id": "cf9045c4-8007-4292-ab0f-7c54bc0df848",
   "metadata": {},
   "source": [
    "**Met <i>sort()</i> wordt de volgorde van de elementen in een list <u>blijvend veranderd</u>.**"
   ]
  },
  {
   "cell_type": "code",
<<<<<<< HEAD
   "execution_count": 9,
=======
<<<<<<< HEAD
   "execution_count": null,
=======
   "execution_count": 9,
>>>>>>> 75b6169 (verse start ochtend 220902)
>>>>>>> 6367a6b (rebase 4 220902 ochtend)
   "id": "27578e90-465b-4105-ac45-3e91bf2166f8",
   "metadata": {},
   "outputs": [
    {
     "name": "stdout",
     "output_type": "stream",
     "text": [
      "Halimede is the largest moon of Neptune.\n"
     ]
    }
   ],
   "source": [
    "neptuneOutermoons.sort()\n",
    "print(\"%s is the largest moon of Neptune.\" %(neptuneOutermoons[0]))"
   ]
  },
  {
   "cell_type": "markdown",
   "id": "340d4087-83ca-4686-afd3-6a8cb168843a",
   "metadata": {},
   "source": [
    "**Gebruik de functie len() voor het verkrijgen van het aantal elementen in een list**"
   ]
  },
  {
   "cell_type": "code",
<<<<<<< HEAD
   "execution_count": 10,
=======
<<<<<<< HEAD
   "execution_count": null,
=======
   "execution_count": 10,
>>>>>>> 75b6169 (verse start ochtend 220902)
>>>>>>> 6367a6b (rebase 4 220902 ochtend)
   "id": "45ccf585-96e6-4174-8ed6-06b3f4778310",
   "metadata": {},
   "outputs": [
    {
     "name": "stdout",
     "output_type": "stream",
     "text": [
      "Neptune is the farthest planet of our solar system and it has 14 known moons.\n"
     ]
    }
   ],
   "source": [
    "print(f\"Neptune is the farthest planet of our solar system and it has { len(neptuneInnerMoons) + len(neptuneOutermoons) } known moons.\")"
   ]
  },
  {
   "cell_type": "code",
   "execution_count": 13,
   "id": "9249ccbd-fc21-469d-a8b9-769f1fbb9551",
   "metadata": {},
   "outputs": [
    {
     "name": "stdout",
     "output_type": "stream",
     "text": [
      "[<zip object at 0x7f8af1125a80>]\n",
      "<zip object at 0x7f8af1125a80>\n"
     ]
    },
    {
     "data": {
      "text/plain": [
       "list"
      ]
     },
     "execution_count": 13,
     "metadata": {},
     "output_type": "execute_result"
    }
   ],
   "source": [
    "neptuneMoons = list(zip(neptuneInnerMoons, neptuneOutermoons))\n",
    "#neptuneMoons = [zip(neptuneInnerMoons, neptuneOutermoons)] # dit levert een ander resultaat op!\n",
    "print(neptuneMoons)\n",
    "print(neptuneMoons[0])\n",
    "type(neptuneMoons)"
   ]
  },
  {
   "cell_type": "code",
<<<<<<< HEAD
   "execution_count": 12,
   "id": "b49facab-981d-4fd6-b982-e8400828fb23",
=======
<<<<<<< HEAD
   "execution_count": null,
   "id": "9249ccbd-fc21-469d-a8b9-769f1fbb9551",
=======
   "execution_count": 12,
   "id": "b49facab-981d-4fd6-b982-e8400828fb23",
>>>>>>> 75b6169 (verse start ochtend 220902)
>>>>>>> 6367a6b (rebase 4 220902 ochtend)
   "metadata": {},
   "outputs": [],
   "source": [
    "myMatrix = [\n",
    "    1, 2, 3,\n",
    "    4, 5, 6,\n",
    "    ]"
   ]
  },
  {
   "cell_type": "markdown",
   "id": "f0dc9127-ed86-4dfc-aef4-91bdd18669e2",
   "metadata": {},
   "source": [
    "<h3>Map en join</h3>"
   ]
  },
  {
   "cell_type": "code",
<<<<<<< HEAD
   "execution_count": 22,
=======
   "execution_count": null,
>>>>>>> 75b6169 (verse start ochtend 220902)
   "id": "040ae4f2-79be-48db-b600-e73b2081df64",
   "metadata": {},
   "outputs": [],
   "source": [
    "lambda x: x**2, (1,2,4,8)"
   ]
  },
  {
   "cell_type": "code",
   "execution_count": 45,
   "id": "330c963e-e9d1-4bfe-bcfe-2feac875a5de",
   "metadata": {},
   "outputs": [
    {
     "name": "stdout",
     "output_type": "stream",
     "text": [
      "['NAIAD', 'THALASSA', 'DESPINA', 'GALATEA', 'PROTEUS', 'HIPPOCAMP', 'LARISSA']\n",
      "[1, 4, 16, 64]\n"
     ]
    },
    {
     "ename": "TypeError",
     "evalue": "<lambda>() missing 3 required positional arguments: 'x', 'y', and 'z'",
     "output_type": "error",
     "traceback": [
      "\u001b[0;31m---------------------------------------------------------------------------\u001b[0m",
      "\u001b[0;31mTypeError\u001b[0m                                 Traceback (most recent call last)",
      "Input \u001b[0;32mIn [45]\u001b[0m, in \u001b[0;36m<cell line: 6>\u001b[0;34m()\u001b[0m\n\u001b[1;32m      4\u001b[0m \u001b[38;5;28mprint\u001b[39m(\u001b[38;5;28mlist\u001b[39m(iterator2))\n\u001b[1;32m      5\u001b[0m t \u001b[38;5;241m=\u001b[39m \u001b[38;5;28;01mlambda\u001b[39;00m x,y,z: [x\u001b[38;5;241m*\u001b[39m\u001b[38;5;241m*\u001b[39m\u001b[38;5;241m2\u001b[39m,y\u001b[38;5;241m*\u001b[39m\u001b[38;5;241m*\u001b[39m\u001b[38;5;241m4\u001b[39m,z\u001b[38;5;241m*\u001b[39m\u001b[38;5;241m*\u001b[39m\u001b[38;5;241m8\u001b[39m]\n\u001b[0;32m----> 6\u001b[0m \u001b[38;5;28mlist\u001b[39m(\u001b[38;5;28mmap\u001b[39m(\u001b[43mt\u001b[49m\u001b[43m(\u001b[49m\u001b[43m)\u001b[49m,((\u001b[38;5;241m40\u001b[39m,\u001b[38;5;241m20\u001b[39m,\u001b[38;5;241m30\u001b[39m))))\n",
      "\u001b[0;31mTypeError\u001b[0m: <lambda>() missing 3 required positional arguments: 'x', 'y', and 'z'"
     ]
    }
   ],
   "source": [
    "iterator = map(lambda moon: moon.upper(), neptuneInnerMoons)\n",
    "print(list(iterator))\n",
    "iterator2 = map(lambda x: x**2, (1,2,4,8))\n",
    "print(list(iterator2))\n",
<<<<<<< HEAD
<<<<<<< HEAD
    "t = lambda x,y,z: [x**2,y**4,z**8]\n",
    "list(map(t(),((40,20,30))))"
<<<<<<< HEAD
=======
    "t = lambda x,y,z: [x**2,y**4,z**8]\n",
    "list(map(t(),((40,20,30))))"
>>>>>>> 6367a6b (rebase 4 220902 ochtend)
   ]
  },
  {
   "cell_type": "code",
   "execution_count": 22,
   "id": "f7e1bd63-eae4-4755-9300-4d58673e4a6f",
   "metadata": {},
   "outputs": [
    {
     "name": "stdout",
     "output_type": "stream",
     "text": [
      "In order of increasing distance, the list of 7 regular Neptune moons is Despina, Galatea, Hippocamp, Larissa, Naiad, Proteus, Thalassa.\n"
     ]
    }
   ],
   "source": [
    "neptuneInnerMoonsStr = \", \".join(map(str,sorted(neptuneInnerMoons))) \n",
    "print( f\"In order of increasing distance, the list of { len(neptuneInnerMoons) } \\\n",
    "regular Neptune moons is {neptuneInnerMoonsStr}.\" )"
=======
>>>>>>> f57b48f (rebase 220902 ochtend)
=======
    "t = lambda x: x**2\n",
<<<<<<< HEAD
    "list(map(t,(2,4,8)))"
>>>>>>> 0b8b438 (rebase 2 220902 ochtend)
=======
    "list(map(t,[40,20,30])"
>>>>>>> 58fcf4f (rebase 3 220902 ochtend)
   ]
  },
  {
   "cell_type": "code",
   "execution_count": null,
   "id": "ff5e9179-cb99-4c2b-bd3e-68f6a4205aae",
   "metadata": {},
<<<<<<< HEAD
   "outputs": [],
<<<<<<< HEAD
   "source": []
=======
=======
   "outputs": [
    {
     "name": "stdout",
     "output_type": "stream",
     "text": [
      "In order of increasing distance, the list of 7 regular Neptune moons is Despina, Galatea, Hippocamp, Larissa, Naiad, Proteus, Thalassa.\n"
     ]
    }
   ],
>>>>>>> 58fcf4f (rebase 3 220902 ochtend)
   "source": [
    "neptuneInnerMoonsStr = \", \".join(map(str,sorted(neptuneInnerMoons))) \n",
    "print( f\"In order of increasing distance, the list of { len(neptuneInnerMoons) } \\\n",
    "regular Neptune moons is {neptuneInnerMoonsStr}.\" )"
   ]
<<<<<<< HEAD
>>>>>>> f57b48f (rebase 220902 ochtend)
=======
  },
  {
   "cell_type": "code",
   "execution_count": null,
   "id": "ff5e9179-cb99-4c2b-bd3e-68f6a4205aae",
   "metadata": {},
   "outputs": [],
   "source": []
>>>>>>> 58fcf4f (rebase 3 220902 ochtend)
  }
 ],
 "metadata": {
  "kernelspec": {
   "display_name": "Python 3 (ipykernel)",
   "language": "python",
   "name": "python3"
  },
  "language_info": {
   "codemirror_mode": {
    "name": "ipython",
    "version": 3
   },
   "file_extension": ".py",
   "mimetype": "text/x-python",
   "name": "python",
   "nbconvert_exporter": "python",
   "pygments_lexer": "ipython3",
   "version": "3.10.5"
  }
 },
 "nbformat": 4,
 "nbformat_minor": 5
}
